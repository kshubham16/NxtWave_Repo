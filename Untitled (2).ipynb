{
 "cells": [
  {
   "cell_type": "markdown",
   "id": "ce0c4e3c",
   "metadata": {},
   "source": [
    "- Resource :- https://www.kaggle.com/datasets/nxtwaveda/data-analyst"
   ]
  },
  {
   "cell_type": "markdown",
   "id": "e235dfa8",
   "metadata": {},
   "source": [
    "- Tables Description\n",
    "\n",
    "#### lead_basic_details\n",
    "- lead_id: unique id of the lead \n",
    "- age: age of the lead\n",
    "- gender: gender of the lead \n",
    "- current_city: city of residence of the lead \n",
    "- current_education: current education details of the lead \n",
    "- parent_occupation: occupation of the parent of the lead \n",
    "- lead_gen_source: source from which the lead is generated \n",
    "\n",
    "#### sales_managers_assigned_leads_details\n",
    "- snr_sm_id: unique id of the senior sales manager \n",
    "- jnr_sm_id: unique id of the junior sales manager \n",
    "- assigned_date: date at which certain leads are assigned to junior sales manager \n",
    "- cycle: cycle in which the lead is assigned \n",
    "- lead_id: unique id of the lead \n",
    "\n",
    "#### leads_interaction_details:\n",
    "- jnr_sm_id: unique id of the junior sales manager \n",
    "- lead_id: unique id of the lead \n",
    "- lead_stage: stage of the lead when contacted by junior sales manager \n",
    "- Stage can be “lead”, “awareness”, “consideration”, “conversion”\n",
    "- call_done_date: date of call done to lead by junior sales manager \n",
    "- call_status: status of the call made to the lead \n",
    "- If lead answers the call then “successful”\n",
    "- In all other cases “unsuccessful”\n",
    "- call_reason: reason for calling the lead \n",
    "- The reason depends on the stage lead is in.\n",
    "- If lead is in “lead” stage, then reasons could be\n",
    "- lead_introduction\n",
    "- demo_scheduled\n",
    "- demo_not_attended\n",
    "- If lead is in “awareness” stage, then reasons could be\n",
    "- after_demo_followup\n",
    "- followup_for_consideration\n",
    "- if lead is in “consideration” stage, then reasons could be\n",
    "- interested_for_conversion\n",
    "- followup_for_conversion\n",
    "- if lead is in “conversion” stage, then reasons could be\n",
    "- successful_conversion\n",
    "\n",
    "#### leads_demo_watched_details\n",
    "- lead_id: unique id of the lead \n",
    "- demo_watched_date: date at which demo session is watched by the lead \n",
    "- language: language in which the demo session is watched by the lead \n",
    "- It can be “English”, “Telugu” or “Hindi”\n",
    "- watched_percentage: percentage of the session watched by the lead (out of 100)\n",
    "- leads_reasons_for_no_interest\n",
    "- lead_id: unique id of the lead mo: the reason stated by the lead for their lack of interest in watching the demo session. \n",
    "- reasons_for_not_interested_in_consideration: the reason stated by the lead for not considering the product as a solution. \n",
    "- reasons_for_not_interested_in_conversion: the reason stated by the lead for not converting"
   ]
  },
  {
   "cell_type": "code",
   "execution_count": 246,
   "id": "e1aa4303",
   "metadata": {},
   "outputs": [],
   "source": [
    "import pandas as pd\n",
    "import numpy as np\n",
    "import matplotlib.pyplot as plt\n",
    "%matplotlib inline\n",
    "import seaborn as sns"
   ]
  },
  {
   "cell_type": "code",
   "execution_count": 247,
   "id": "46b6a79c",
   "metadata": {},
   "outputs": [],
   "source": [
    "df1 = pd.read_csv(\"leads_basic_details.csv\")\n",
    "df2 = pd.read_csv(\"leads_interaction_details.csv\")\n",
    "df3 = pd.read_csv(\"leads_demo_watched_details.csv\")\n",
    "df4 = pd.read_csv(\"leads_reasons_for_no_interest.csv\")\n",
    "df5 = pd.read_csv(\"sales_managers_assigned_leads_details.csv\")"
   ]
  },
  {
   "cell_type": "code",
   "execution_count": 248,
   "id": "af70010a",
   "metadata": {},
   "outputs": [
    {
     "name": "stdout",
     "output_type": "stream",
     "text": [
      "leads_basic_details : (360, 7)\n",
      "leads_interaction_details : (2192, 6)\n",
      "leads_demo_watched_details : (194, 4)\n",
      "leads_reasons_for_no_interest : (294, 4)\n",
      "sales_managers_assigned_leads_details : (360, 5)\n"
     ]
    }
   ],
   "source": [
    "print(\"leads_basic_details :\", df1.shape)\n",
    "print(\"leads_interaction_details :\", df2.shape)\n",
    "print(\"leads_demo_watched_details :\", df3.shape)\n",
    "print(\"leads_reasons_for_no_interest :\", df4.shape)\n",
    "print(\"sales_managers_assigned_leads_details :\", df5.shape)"
   ]
  },
  {
   "cell_type": "code",
   "execution_count": 249,
   "id": "99487345",
   "metadata": {
    "scrolled": true
   },
   "outputs": [
    {
     "name": "stdout",
     "output_type": "stream",
     "text": [
      "lead_id              0\n",
      "age                  0\n",
      "gender               0\n",
      "current_city         0\n",
      "current_education    0\n",
      "parent_occupation    0\n",
      "lead_gen_source      0\n",
      "dtype: int64 \n",
      "\n",
      "jnr_sm_id         0\n",
      "lead_id           0\n",
      "lead_stage        0\n",
      "call_done_date    0\n",
      "call_status       0\n",
      "call_reason       0\n",
      "dtype: int64 \n",
      "\n",
      "lead_id               0\n",
      "demo_watched_date     0\n",
      "language              0\n",
      "watched_percentage    0\n",
      "dtype: int64 \n",
      "\n",
      "lead_id                                     0\n",
      "reasons_for_not_interested_in_demo        130\n",
      "reasons_for_not_interested_to_consider    215\n",
      "reasons_for_not_interested_to_convert     243\n",
      "dtype: int64 \n",
      "\n",
      "snr_sm_id        0\n",
      "jnr_sm_id        0\n",
      "assigned_date    0\n",
      "cycle            0\n",
      "lead_id          0\n",
      "dtype: int64 \n",
      "\n"
     ]
    }
   ],
   "source": [
    "print(df1.isnull().sum(), \"\\n\")\n",
    "print(df2.isnull().sum(), \"\\n\")\n",
    "print(df3.isnull().sum(), \"\\n\")\n",
    "print(df4.isnull().sum(), \"\\n\")\n",
    "print(df5.isnull().sum(), \"\\n\")\n"
   ]
  },
  {
   "cell_type": "code",
   "execution_count": 250,
   "id": "3137a43d",
   "metadata": {},
   "outputs": [
    {
     "name": "stdout",
     "output_type": "stream",
     "text": [
      "<class 'pandas.core.frame.DataFrame'>\n",
      "RangeIndex: 360 entries, 0 to 359\n",
      "Data columns (total 7 columns):\n",
      " #   Column             Non-Null Count  Dtype \n",
      "---  ------             --------------  ----- \n",
      " 0   lead_id            360 non-null    object\n",
      " 1   age                360 non-null    int64 \n",
      " 2   gender             360 non-null    object\n",
      " 3   current_city       360 non-null    object\n",
      " 4   current_education  360 non-null    object\n",
      " 5   parent_occupation  360 non-null    object\n",
      " 6   lead_gen_source    360 non-null    object\n",
      "dtypes: int64(1), object(6)\n",
      "memory usage: 19.8+ KB\n",
      "\n",
      "\n",
      "<class 'pandas.core.frame.DataFrame'>\n",
      "RangeIndex: 2192 entries, 0 to 2191\n",
      "Data columns (total 6 columns):\n",
      " #   Column          Non-Null Count  Dtype \n",
      "---  ------          --------------  ----- \n",
      " 0   jnr_sm_id       2192 non-null   object\n",
      " 1   lead_id         2192 non-null   object\n",
      " 2   lead_stage      2192 non-null   object\n",
      " 3   call_done_date  2192 non-null   object\n",
      " 4   call_status     2192 non-null   object\n",
      " 5   call_reason     2192 non-null   object\n",
      "dtypes: object(6)\n",
      "memory usage: 102.9+ KB\n",
      "\n",
      "\n",
      "<class 'pandas.core.frame.DataFrame'>\n",
      "RangeIndex: 194 entries, 0 to 193\n",
      "Data columns (total 4 columns):\n",
      " #   Column              Non-Null Count  Dtype \n",
      "---  ------              --------------  ----- \n",
      " 0   lead_id             194 non-null    object\n",
      " 1   demo_watched_date   194 non-null    object\n",
      " 2   language            194 non-null    object\n",
      " 3   watched_percentage  194 non-null    int64 \n",
      "dtypes: int64(1), object(3)\n",
      "memory usage: 6.2+ KB\n",
      "\n",
      "\n",
      "<class 'pandas.core.frame.DataFrame'>\n",
      "RangeIndex: 294 entries, 0 to 293\n",
      "Data columns (total 4 columns):\n",
      " #   Column                                  Non-Null Count  Dtype \n",
      "---  ------                                  --------------  ----- \n",
      " 0   lead_id                                 294 non-null    object\n",
      " 1   reasons_for_not_interested_in_demo      164 non-null    object\n",
      " 2   reasons_for_not_interested_to_consider  79 non-null     object\n",
      " 3   reasons_for_not_interested_to_convert   51 non-null     object\n",
      "dtypes: object(4)\n",
      "memory usage: 9.3+ KB\n",
      "\n",
      "\n",
      "<class 'pandas.core.frame.DataFrame'>\n",
      "RangeIndex: 360 entries, 0 to 359\n",
      "Data columns (total 5 columns):\n",
      " #   Column         Non-Null Count  Dtype \n",
      "---  ------         --------------  ----- \n",
      " 0   snr_sm_id      360 non-null    object\n",
      " 1   jnr_sm_id      360 non-null    object\n",
      " 2   assigned_date  360 non-null    object\n",
      " 3   cycle          360 non-null    int64 \n",
      " 4   lead_id        360 non-null    object\n",
      "dtypes: int64(1), object(4)\n",
      "memory usage: 14.2+ KB\n",
      "\n",
      "\n"
     ]
    }
   ],
   "source": [
    "dataframes = [df1, df2, df3, df4, df5]\n",
    "for i in dataframes:\n",
    "    i.info()\n",
    "    print(\"\\n\")"
   ]
  },
  {
   "cell_type": "code",
   "execution_count": 251,
   "id": "128153cc",
   "metadata": {},
   "outputs": [
    {
     "name": "stdout",
     "output_type": "stream",
     "text": [
      "leads_basic_details : 0\n",
      "leads_interaction_details : 438\n",
      "leads_demo_watched_details : 0\n",
      "leads_reasons_for_no_interest : 0\n",
      "sales_managers_assigned_leads_details : 0\n"
     ]
    }
   ],
   "source": [
    "print(\"leads_basic_details :\", df1.duplicated().sum())\n",
    "print(\"leads_interaction_details :\", df2.duplicated().sum())\n",
    "print(\"leads_demo_watched_details :\", df3.duplicated().sum())\n",
    "print(\"leads_reasons_for_no_interest :\", df4.duplicated().sum())\n",
    "print(\"sales_managers_assigned_leads_details :\", df5.duplicated().sum())"
   ]
  },
  {
   "cell_type": "markdown",
   "id": "899a709e",
   "metadata": {},
   "source": [
    "### Data Cleaning"
   ]
  },
  {
   "cell_type": "markdown",
   "id": "95a10229",
   "metadata": {},
   "source": [
    "#### 1. leads_basic_details"
   ]
  },
  {
   "cell_type": "code",
   "execution_count": 252,
   "id": "5ef0fcf2",
   "metadata": {},
   "outputs": [
    {
     "data": {
      "text/html": [
       "<div>\n",
       "<style scoped>\n",
       "    .dataframe tbody tr th:only-of-type {\n",
       "        vertical-align: middle;\n",
       "    }\n",
       "\n",
       "    .dataframe tbody tr th {\n",
       "        vertical-align: top;\n",
       "    }\n",
       "\n",
       "    .dataframe thead th {\n",
       "        text-align: right;\n",
       "    }\n",
       "</style>\n",
       "<table border=\"1\" class=\"dataframe\">\n",
       "  <thead>\n",
       "    <tr style=\"text-align: right;\">\n",
       "      <th></th>\n",
       "      <th>age</th>\n",
       "    </tr>\n",
       "  </thead>\n",
       "  <tbody>\n",
       "    <tr>\n",
       "      <th>count</th>\n",
       "      <td>360.000000</td>\n",
       "    </tr>\n",
       "    <tr>\n",
       "      <th>mean</th>\n",
       "      <td>21.561111</td>\n",
       "    </tr>\n",
       "    <tr>\n",
       "      <th>std</th>\n",
       "      <td>11.555444</td>\n",
       "    </tr>\n",
       "    <tr>\n",
       "      <th>min</th>\n",
       "      <td>16.000000</td>\n",
       "    </tr>\n",
       "    <tr>\n",
       "      <th>25%</th>\n",
       "      <td>18.000000</td>\n",
       "    </tr>\n",
       "    <tr>\n",
       "      <th>50%</th>\n",
       "      <td>21.000000</td>\n",
       "    </tr>\n",
       "    <tr>\n",
       "      <th>75%</th>\n",
       "      <td>24.000000</td>\n",
       "    </tr>\n",
       "    <tr>\n",
       "      <th>max</th>\n",
       "      <td>211.000000</td>\n",
       "    </tr>\n",
       "  </tbody>\n",
       "</table>\n",
       "</div>"
      ],
      "text/plain": [
       "              age\n",
       "count  360.000000\n",
       "mean    21.561111\n",
       "std     11.555444\n",
       "min     16.000000\n",
       "25%     18.000000\n",
       "50%     21.000000\n",
       "75%     24.000000\n",
       "max    211.000000"
      ]
     },
     "execution_count": 252,
     "metadata": {},
     "output_type": "execute_result"
    }
   ],
   "source": [
    "df1.describe()"
   ]
  },
  {
   "cell_type": "code",
   "execution_count": 253,
   "id": "a37f1c30",
   "metadata": {},
   "outputs": [
    {
     "data": {
      "text/plain": [
       "array([ 16,  20,  21,  22,  25,  18,  24, 211, 116], dtype=int64)"
      ]
     },
     "execution_count": 253,
     "metadata": {},
     "output_type": "execute_result"
    }
   ],
   "source": [
    "df1.age.unique()"
   ]
  },
  {
   "cell_type": "code",
   "execution_count": 254,
   "id": "6d2bfebf",
   "metadata": {},
   "outputs": [
    {
     "data": {
      "text/html": [
       "<div>\n",
       "<style scoped>\n",
       "    .dataframe tbody tr th:only-of-type {\n",
       "        vertical-align: middle;\n",
       "    }\n",
       "\n",
       "    .dataframe tbody tr th {\n",
       "        vertical-align: top;\n",
       "    }\n",
       "\n",
       "    .dataframe thead th {\n",
       "        text-align: right;\n",
       "    }\n",
       "</style>\n",
       "<table border=\"1\" class=\"dataframe\">\n",
       "  <thead>\n",
       "    <tr style=\"text-align: right;\">\n",
       "      <th></th>\n",
       "      <th>lead_id</th>\n",
       "      <th>age</th>\n",
       "      <th>gender</th>\n",
       "      <th>current_city</th>\n",
       "      <th>current_education</th>\n",
       "      <th>parent_occupation</th>\n",
       "      <th>lead_gen_source</th>\n",
       "    </tr>\n",
       "  </thead>\n",
       "  <tbody>\n",
       "    <tr>\n",
       "      <th>17</th>\n",
       "      <td>USR1018</td>\n",
       "      <td>211</td>\n",
       "      <td>MALE</td>\n",
       "      <td>Hyderabad</td>\n",
       "      <td>Degree</td>\n",
       "      <td>IT Employee</td>\n",
       "      <td>social_media</td>\n",
       "    </tr>\n",
       "    <tr>\n",
       "      <th>300</th>\n",
       "      <td>USR1301</td>\n",
       "      <td>116</td>\n",
       "      <td>FEMALE</td>\n",
       "      <td>Hyderabad</td>\n",
       "      <td>Intermediate</td>\n",
       "      <td>Private Employee</td>\n",
       "      <td>social_media</td>\n",
       "    </tr>\n",
       "  </tbody>\n",
       "</table>\n",
       "</div>"
      ],
      "text/plain": [
       "     lead_id  age  gender current_city current_education parent_occupation  \\\n",
       "17   USR1018  211    MALE    Hyderabad            Degree       IT Employee   \n",
       "300  USR1301  116  FEMALE    Hyderabad      Intermediate  Private Employee   \n",
       "\n",
       "    lead_gen_source  \n",
       "17     social_media  \n",
       "300    social_media  "
      ]
     },
     "execution_count": 254,
     "metadata": {},
     "output_type": "execute_result"
    }
   ],
   "source": [
    "df1.query(\"age == (116, 211)\")"
   ]
  },
  {
   "cell_type": "markdown",
   "id": "f053a0fa",
   "metadata": {},
   "source": [
    "- May be by mistake 16 would have typed 116 and 21 typed 211. So I am replacing it in its original value."
   ]
  },
  {
   "cell_type": "code",
   "execution_count": 255,
   "id": "513a81be",
   "metadata": {},
   "outputs": [],
   "source": [
    "df1.age.replace(211, 21, inplace=True)\n",
    "df1.age.replace(116, 16, inplace=True)\n",
    "\n",
    "# df1.describe()"
   ]
  },
  {
   "cell_type": "code",
   "execution_count": 256,
   "id": "9cb9af48",
   "metadata": {},
   "outputs": [
    {
     "name": "stdout",
     "output_type": "stream",
     "text": [
      "['Hyderabad' 'Bengaluru' 'Visakhapatnam' 'Mumbai' 'Chennai' 'Kochi'] \n",
      "\n",
      "['Intermediate' 'B.Tech' 'Degree' 'Looking for Job' '10th Completed'\n",
      " 'Intermediate Completed'] \n",
      "\n",
      "['Private Employee' 'Business' 'Lawyer' 'IT Employee'\n",
      " 'Government Employee' 'Doctor' 'Professor/Faculty'] \n",
      "\n",
      "['social_media' 'user_referrals' 'website' 'SEO' 'email_marketing'] \n",
      "\n"
     ]
    }
   ],
   "source": [
    "print(df1.current_city.unique(), '\\n')\n",
    "print(df1.current_education.unique(), '\\n')\n",
    "print(df1.parent_occupation.unique(), '\\n')\n",
    "print(df1.lead_gen_source.unique(), '\\n')"
   ]
  },
  {
   "cell_type": "code",
   "execution_count": 257,
   "id": "8eb0fe77",
   "metadata": {},
   "outputs": [
    {
     "data": {
      "text/html": [
       "<div>\n",
       "<style scoped>\n",
       "    .dataframe tbody tr th:only-of-type {\n",
       "        vertical-align: middle;\n",
       "    }\n",
       "\n",
       "    .dataframe tbody tr th {\n",
       "        vertical-align: top;\n",
       "    }\n",
       "\n",
       "    .dataframe thead th {\n",
       "        text-align: right;\n",
       "    }\n",
       "</style>\n",
       "<table border=\"1\" class=\"dataframe\">\n",
       "  <thead>\n",
       "    <tr style=\"text-align: right;\">\n",
       "      <th></th>\n",
       "      <th>lead_id</th>\n",
       "      <th>age</th>\n",
       "      <th>gender</th>\n",
       "      <th>current_city</th>\n",
       "      <th>current_education</th>\n",
       "      <th>parent_occupation</th>\n",
       "      <th>lead_gen_source</th>\n",
       "    </tr>\n",
       "  </thead>\n",
       "  <tbody>\n",
       "    <tr>\n",
       "      <th>0</th>\n",
       "      <td>USR1001</td>\n",
       "      <td>16</td>\n",
       "      <td>FEMALE</td>\n",
       "      <td>Hyderabad</td>\n",
       "      <td>Intermediate</td>\n",
       "      <td>Private Employee</td>\n",
       "      <td>social_media</td>\n",
       "    </tr>\n",
       "    <tr>\n",
       "      <th>3</th>\n",
       "      <td>USR1004</td>\n",
       "      <td>16</td>\n",
       "      <td>MALE</td>\n",
       "      <td>Mumbai</td>\n",
       "      <td>Intermediate</td>\n",
       "      <td>IT Employee</td>\n",
       "      <td>user_referrals</td>\n",
       "    </tr>\n",
       "  </tbody>\n",
       "</table>\n",
       "</div>"
      ],
      "text/plain": [
       "   lead_id  age  gender current_city current_education parent_occupation  \\\n",
       "0  USR1001   16  FEMALE    Hyderabad      Intermediate  Private Employee   \n",
       "3  USR1004   16    MALE       Mumbai      Intermediate       IT Employee   \n",
       "\n",
       "  lead_gen_source  \n",
       "0    social_media  \n",
       "3  user_referrals  "
      ]
     },
     "execution_count": 257,
     "metadata": {},
     "output_type": "execute_result"
    }
   ],
   "source": [
    "# I think, intermediate and intermediate completed both are same. So I replace it in one.\n",
    "\n",
    "df1.loc[df1.current_education.isin([\"Intermediate Completed\", \"Intermediate\"])].head(2)"
   ]
  },
  {
   "cell_type": "code",
   "execution_count": 258,
   "id": "d507c762",
   "metadata": {},
   "outputs": [],
   "source": [
    "df1.current_education.replace(\"Intermediate Completed\", \"Intermediate\", inplace=True)"
   ]
  },
  {
   "cell_type": "code",
   "execution_count": 259,
   "id": "35ba2dae",
   "metadata": {},
   "outputs": [
    {
     "data": {
      "text/plain": [
       "array(['Intermediate', 'B.Tech', 'Degree', 'Looking for Job',\n",
       "       '10th Completed'], dtype=object)"
      ]
     },
     "execution_count": 259,
     "metadata": {},
     "output_type": "execute_result"
    }
   ],
   "source": [
    "df1.current_education.unique()"
   ]
  },
  {
   "cell_type": "code",
   "execution_count": 279,
   "id": "b73b284c",
   "metadata": {},
   "outputs": [],
   "source": [
    "df1.to_csv(\"leads_basic_details_cln.csv\")"
   ]
  },
  {
   "cell_type": "markdown",
   "id": "c52ce57b",
   "metadata": {},
   "source": [
    "#### 2. leads_interaction_details"
   ]
  },
  {
   "cell_type": "code",
   "execution_count": 260,
   "id": "de3b7309",
   "metadata": {},
   "outputs": [
    {
     "data": {
      "text/plain": [
       "Index(['jnr_sm_id', 'lead_id', 'lead_stage', 'call_done_date', 'call_status',\n",
       "       'call_reason'],\n",
       "      dtype='object')"
      ]
     },
     "execution_count": 260,
     "metadata": {},
     "output_type": "execute_result"
    }
   ],
   "source": [
    "df2.columns"
   ]
  },
  {
   "cell_type": "code",
   "execution_count": 261,
   "id": "2ad414ef",
   "metadata": {},
   "outputs": [
    {
     "data": {
      "text/plain": [
       "438"
      ]
     },
     "execution_count": 261,
     "metadata": {},
     "output_type": "execute_result"
    }
   ],
   "source": [
    "df2.duplicated().sum()"
   ]
  },
  {
   "cell_type": "code",
   "execution_count": 262,
   "id": "345e4229",
   "metadata": {},
   "outputs": [
    {
     "data": {
      "text/html": [
       "<div>\n",
       "<style scoped>\n",
       "    .dataframe tbody tr th:only-of-type {\n",
       "        vertical-align: middle;\n",
       "    }\n",
       "\n",
       "    .dataframe tbody tr th {\n",
       "        vertical-align: top;\n",
       "    }\n",
       "\n",
       "    .dataframe thead th {\n",
       "        text-align: right;\n",
       "    }\n",
       "</style>\n",
       "<table border=\"1\" class=\"dataframe\">\n",
       "  <thead>\n",
       "    <tr style=\"text-align: right;\">\n",
       "      <th></th>\n",
       "      <th>jnr_sm_id</th>\n",
       "      <th>lead_id</th>\n",
       "      <th>lead_stage</th>\n",
       "      <th>call_done_date</th>\n",
       "      <th>call_status</th>\n",
       "      <th>call_reason</th>\n",
       "    </tr>\n",
       "  </thead>\n",
       "  <tbody>\n",
       "    <tr>\n",
       "      <th>8</th>\n",
       "      <td>JNR1001MG</td>\n",
       "      <td>USR1002</td>\n",
       "      <td>consideration</td>\n",
       "      <td>1/7/2022</td>\n",
       "      <td>successful</td>\n",
       "      <td>followup_for_conversion</td>\n",
       "    </tr>\n",
       "    <tr>\n",
       "      <th>32</th>\n",
       "      <td>JNR1001MG</td>\n",
       "      <td>USR1007</td>\n",
       "      <td>consideration</td>\n",
       "      <td>1/14/2022</td>\n",
       "      <td>successful</td>\n",
       "      <td>followup_for_conversion</td>\n",
       "    </tr>\n",
       "  </tbody>\n",
       "</table>\n",
       "</div>"
      ],
      "text/plain": [
       "    jnr_sm_id  lead_id     lead_stage call_done_date call_status  \\\n",
       "8   JNR1001MG  USR1002  consideration       1/7/2022  successful   \n",
       "32  JNR1001MG  USR1007  consideration      1/14/2022  successful   \n",
       "\n",
       "                call_reason  \n",
       "8   followup_for_conversion  \n",
       "32  followup_for_conversion  "
      ]
     },
     "execution_count": 262,
     "metadata": {},
     "output_type": "execute_result"
    }
   ],
   "source": [
    "df2[df2.duplicated()].head(2)"
   ]
  },
  {
   "cell_type": "code",
   "execution_count": 263,
   "id": "d8c845d1",
   "metadata": {},
   "outputs": [],
   "source": [
    "df2.drop_duplicates(keep='last', inplace=True, ignore_index=True)"
   ]
  },
  {
   "cell_type": "code",
   "execution_count": 264,
   "id": "23a4f9f4",
   "metadata": {},
   "outputs": [
    {
     "data": {
      "text/plain": [
       "0"
      ]
     },
     "execution_count": 264,
     "metadata": {},
     "output_type": "execute_result"
    }
   ],
   "source": [
    "df2.duplicated().sum()"
   ]
  },
  {
   "cell_type": "code",
   "execution_count": 265,
   "id": "df0310bd",
   "metadata": {},
   "outputs": [
    {
     "name": "stdout",
     "output_type": "stream",
     "text": [
      "['JNR1001MG' 'JNR1002MG' 'JNR1003MG' 'JNR1004MG' 'JNR1005MG' 'JNR1006MG'\n",
      " 'JNR1007MG' 'JNR1008MG' 'JNR1009MG' 'JNR1010MG' 'JNR1011MG' 'JNR1012MG'\n",
      " 'JNR1013MG' 'JNR1014MG' 'JNR1015MG' 'JNR1016MG'] \n",
      "\n",
      "['lead' 'awareness' 'consideration' 'conversion'] \n",
      "\n",
      "['1/2/2022' '1/3/2022' '1/4/2022' '1/5/2022' '1/6/2022' '1/7/2022'\n",
      " '1/8/2022' '1/9/2022' '1/1/2022' '1/10/2022' '1/12/2022' '1/13/2022'\n",
      " '1/11/2022' '1/14/2022' '1/15/2022' '1/16/2022' '1/20/2022' '1/21/2022'\n",
      " '1/22/2022' '1/17/2022' '1/18/2022' '1/19/2022' '2/19/2022' '2/21/2022'\n",
      " '2/20/2022' '2/22/2022' '2/23/2022' '2/24/2022' '2/25/2022' '1/27/2022'\n",
      " '1/28/2022' '1/29/2022' '2/26/2022' '2/27/2022' '2/28/2022' '1/24/2022'\n",
      " '1/26/2022' '1/25/2022' '1/23/2022' '3/1/2022'] \n",
      "\n",
      "['successful' 'unsuccessful'] \n",
      "\n",
      "['lead_introduction' 'demo_schedule' 'post_demo_followup'\n",
      " 'followup_for_consideration' 'interested_for_conversion'\n",
      " 'followup_for_conversion' 'successful_conversion' 'demo_not_attended'] \n",
      "\n"
     ]
    }
   ],
   "source": [
    "print(df2.jnr_sm_id.unique(), '\\n')\n",
    "# print(df2.lead_id.unique(), '\\n')\n",
    "print(df2.lead_stage.unique(), '\\n')\n",
    "print(df2.call_done_date.unique(), '\\n')\n",
    "print(df2.call_status.unique(), '\\n')\n",
    "print(df2.call_reason.unique(), '\\n')"
   ]
  },
  {
   "cell_type": "code",
   "execution_count": 280,
   "id": "7774baa0",
   "metadata": {},
   "outputs": [],
   "source": [
    "df2.to_csv(\"leads_interaction_details_cln.csv\")"
   ]
  },
  {
   "cell_type": "markdown",
   "id": "fc739de0",
   "metadata": {},
   "source": [
    "#### 3. leads_demo_watched_details"
   ]
  },
  {
   "cell_type": "code",
   "execution_count": 266,
   "id": "a47550e7",
   "metadata": {},
   "outputs": [
    {
     "data": {
      "text/html": [
       "<div>\n",
       "<style scoped>\n",
       "    .dataframe tbody tr th:only-of-type {\n",
       "        vertical-align: middle;\n",
       "    }\n",
       "\n",
       "    .dataframe tbody tr th {\n",
       "        vertical-align: top;\n",
       "    }\n",
       "\n",
       "    .dataframe thead th {\n",
       "        text-align: right;\n",
       "    }\n",
       "</style>\n",
       "<table border=\"1\" class=\"dataframe\">\n",
       "  <thead>\n",
       "    <tr style=\"text-align: right;\">\n",
       "      <th></th>\n",
       "      <th>lead_id</th>\n",
       "      <th>demo_watched_date</th>\n",
       "      <th>language</th>\n",
       "      <th>watched_percentage</th>\n",
       "    </tr>\n",
       "  </thead>\n",
       "  <tbody>\n",
       "    <tr>\n",
       "      <th>0</th>\n",
       "      <td>USR1002</td>\n",
       "      <td>1/4/2022</td>\n",
       "      <td>Telugu</td>\n",
       "      <td>42</td>\n",
       "    </tr>\n",
       "    <tr>\n",
       "      <th>1</th>\n",
       "      <td>USR1003</td>\n",
       "      <td>1/7/2022</td>\n",
       "      <td>Telugu</td>\n",
       "      <td>81</td>\n",
       "    </tr>\n",
       "    <tr>\n",
       "      <th>2</th>\n",
       "      <td>USR1004</td>\n",
       "      <td>1/2/2022</td>\n",
       "      <td>Telugu</td>\n",
       "      <td>35</td>\n",
       "    </tr>\n",
       "    <tr>\n",
       "      <th>3</th>\n",
       "      <td>USR1005</td>\n",
       "      <td>1/3/2022</td>\n",
       "      <td>Hindi</td>\n",
       "      <td>38</td>\n",
       "    </tr>\n",
       "    <tr>\n",
       "      <th>4</th>\n",
       "      <td>USR1006</td>\n",
       "      <td>1/12/2022</td>\n",
       "      <td>Hindi</td>\n",
       "      <td>54</td>\n",
       "    </tr>\n",
       "  </tbody>\n",
       "</table>\n",
       "</div>"
      ],
      "text/plain": [
       "   lead_id demo_watched_date language  watched_percentage\n",
       "0  USR1002          1/4/2022   Telugu                  42\n",
       "1  USR1003          1/7/2022   Telugu                  81\n",
       "2  USR1004          1/2/2022   Telugu                  35\n",
       "3  USR1005          1/3/2022    Hindi                  38\n",
       "4  USR1006         1/12/2022    Hindi                  54"
      ]
     },
     "execution_count": 266,
     "metadata": {},
     "output_type": "execute_result"
    }
   ],
   "source": [
    "df3.head()"
   ]
  },
  {
   "cell_type": "code",
   "execution_count": 267,
   "id": "67245c42",
   "metadata": {},
   "outputs": [
    {
     "name": "stdout",
     "output_type": "stream",
     "text": [
      "['USR1002' 'USR1003' 'USR1004' 'USR1005' 'USR1006' 'USR1007' 'USR1008'\n",
      " 'USR1009' 'USR1010' 'USR1011' 'USR1012' 'USR1013' 'USR1014' 'USR1015'\n",
      " 'USR1016' 'USR1017' 'USR1018' 'USR1019' 'USR1020' 'USR1021' 'USR1022'\n",
      " 'USR1023' 'USR1024' 'USR1025' 'USR1026' 'USR1027' 'USR1028' 'USR1029'\n",
      " 'USR1030' 'USR1031' 'USR1032' 'USR1033' 'USR1034' 'USR1035' 'USR1036'\n",
      " 'USR1037' 'USR1038' 'USR1039' 'USR1040' 'USR1041' 'USR1042' 'USR1043'\n",
      " 'USR1044' 'USR1045' 'USR1046' 'USR1047' 'USR1050' 'USR1051' 'USR1052'\n",
      " 'USR1053' 'USR1055' 'USR1057' 'USR1058' 'USR1062' 'USR1063' 'USR1065'\n",
      " 'USR1067' 'USR1070' 'USR1071' 'USR1072' 'USR1073' 'USR1075' 'USR1077'\n",
      " 'USR1078' 'USR1082' 'USR1083' 'USR1087' 'USR1090' 'USR1091' 'USR1092'\n",
      " 'USR1093' 'USR1095' 'USR1097' 'USR1098' 'USR1102' 'USR1103' 'USR1105'\n",
      " 'USR1107' 'USR1110' 'USR1111' 'USR1112' 'USR1113' 'USR1115' 'USR1117'\n",
      " 'USR1118' 'USR1122' 'USR1123' 'USR1127' 'USR1130' 'USR1131' 'USR1132'\n",
      " 'USR1133' 'USR1135' 'USR1137' 'USR1138' 'USR1142' 'USR1143' 'USR1145'\n",
      " 'USR1147' 'USR1150' 'USR1151' 'USR1152' 'USR1153' 'USR1155' 'USR1157'\n",
      " 'USR1158' 'USR1162' 'USR1163' 'USR1167' 'USR1170' 'USR1171' 'USR1172'\n",
      " 'USR1173' 'USR1175' 'USR1177' 'USR1178' 'USR1182' 'USR1183' 'USR1185'\n",
      " 'USR1187' 'USR1190' 'USR1191' 'USR1192' 'USR1193' 'USR1195' 'USR1197'\n",
      " 'USR1198' 'USR1202' 'USR1203' 'USR1207' 'USR1210' 'USR1211' 'USR1212'\n",
      " 'USR1213' 'USR1215' 'USR1217' 'USR1218' 'USR1222' 'USR1223' 'USR1225'\n",
      " 'USR1227' 'USR1230' 'USR1231' 'USR1232' 'USR1233' 'USR1235' 'USR1237'\n",
      " 'USR1238' 'USR1242' 'USR1243' 'USR1247' 'USR1250' 'USR1251' 'USR1252'\n",
      " 'USR1253' 'USR1255' 'USR1257' 'USR1258' 'USR1262' 'USR1263' 'USR1265'\n",
      " 'USR1267' 'USR1270' 'USR1271' 'USR1272' 'USR1273' 'USR1275' 'USR1277'\n",
      " 'USR1278' 'USR1282' 'USR1283' 'USR1287' 'USR1290' 'USR1291' 'USR1292'\n",
      " 'USR1293' 'USR1295' 'USR1297' 'USR1298' 'USR1302' 'USR1303' 'USR1305'\n",
      " 'USR1307' 'USR1310' 'USR1311' 'USR1312' 'USR1313' 'USR1314' 'USR1315'\n",
      " 'USR1317' 'USR1318' 'USR1319' 'USR1343' 'USR1348'] \n",
      "\n",
      "['1/4/2022' '1/7/2022' '1/2/2022' '1/3/2022' '1/12/2022' '1/11/2022'\n",
      " '1/8/2022' '1/10/2022' '1/17/2022' '1/16/2022' '1/18/2022' '2/21/2022'\n",
      " '2/19/2022' '2/20/2022' '1/1/2022' '1/6/2022' '1/9/2022' '1/21/2022'\n",
      " '1/19/2022' '2/22/2022' '2/25/2022' '2/23/2022' '1/5/2022' '1/20/2022'\n",
      " '1/26/2022' '1/13/2022' '1/22/2022' '2/26/2022' '1/14/2022' '2/28/2022'\n",
      " '1/25/2022' '2/27/2022'] \n",
      "\n",
      "['Telugu' 'Hindi' 'English'] \n",
      "\n",
      "[ 42  81  35  38  54  52  41  50  48  44  46  51  47  40  36 100   5  53\n",
      "   8  10  11  14  17  20  23  55  73  26  29  32  56  59  62  60  65  70\n",
      "  74  75  68  85  71  86  87  88  89   2  90  91  92  77  80  63  83  25\n",
      "   3   4  30  45  64 510  37  66  67  49  57  69  61  95  15  12  13  72\n",
      "  19 233  27  21  16  76  18  79  78  22  24  28  82  84] \n",
      "\n"
     ]
    }
   ],
   "source": [
    "print(df3.lead_id.unique(), '\\n')\n",
    "print(df3.demo_watched_date.unique(), '\\n')\n",
    "print(df3.language.unique(), '\\n')\n",
    "print(df3.watched_percentage.unique(), '\\n')"
   ]
  },
  {
   "cell_type": "code",
   "execution_count": null,
   "id": "3657eb0b",
   "metadata": {},
   "outputs": [],
   "source": []
  },
  {
   "cell_type": "markdown",
   "id": "20c3bc22",
   "metadata": {},
   "source": [
    "#### 4. leads_reasons_for_no_interest"
   ]
  },
  {
   "cell_type": "code",
   "execution_count": 268,
   "id": "7088f922",
   "metadata": {},
   "outputs": [
    {
     "data": {
      "text/html": [
       "<div>\n",
       "<style scoped>\n",
       "    .dataframe tbody tr th:only-of-type {\n",
       "        vertical-align: middle;\n",
       "    }\n",
       "\n",
       "    .dataframe tbody tr th {\n",
       "        vertical-align: top;\n",
       "    }\n",
       "\n",
       "    .dataframe thead th {\n",
       "        text-align: right;\n",
       "    }\n",
       "</style>\n",
       "<table border=\"1\" class=\"dataframe\">\n",
       "  <thead>\n",
       "    <tr style=\"text-align: right;\">\n",
       "      <th></th>\n",
       "      <th>lead_id</th>\n",
       "      <th>reasons_for_not_interested_in_demo</th>\n",
       "      <th>reasons_for_not_interested_to_consider</th>\n",
       "      <th>reasons_for_not_interested_to_convert</th>\n",
       "    </tr>\n",
       "  </thead>\n",
       "  <tbody>\n",
       "    <tr>\n",
       "      <th>0</th>\n",
       "      <td>USR1001</td>\n",
       "      <td>No time for student</td>\n",
       "      <td>NaN</td>\n",
       "      <td>NaN</td>\n",
       "    </tr>\n",
       "    <tr>\n",
       "      <th>1</th>\n",
       "      <td>USR1003</td>\n",
       "      <td>NaN</td>\n",
       "      <td>No time for student</td>\n",
       "      <td>NaN</td>\n",
       "    </tr>\n",
       "    <tr>\n",
       "      <th>2</th>\n",
       "      <td>USR1004</td>\n",
       "      <td>NaN</td>\n",
       "      <td>Wants offline classes</td>\n",
       "      <td>NaN</td>\n",
       "    </tr>\n",
       "    <tr>\n",
       "      <th>3</th>\n",
       "      <td>USR1005</td>\n",
       "      <td>NaN</td>\n",
       "      <td>Can't afford</td>\n",
       "      <td>NaN</td>\n",
       "    </tr>\n",
       "    <tr>\n",
       "      <th>4</th>\n",
       "      <td>USR1006</td>\n",
       "      <td>NaN</td>\n",
       "      <td>Student not interested in domain</td>\n",
       "      <td>NaN</td>\n",
       "    </tr>\n",
       "    <tr>\n",
       "      <th>...</th>\n",
       "      <td>...</td>\n",
       "      <td>...</td>\n",
       "      <td>...</td>\n",
       "      <td>...</td>\n",
       "    </tr>\n",
       "    <tr>\n",
       "      <th>289</th>\n",
       "      <td>USR1356</td>\n",
       "      <td>Cannot afford</td>\n",
       "      <td>NaN</td>\n",
       "      <td>NaN</td>\n",
       "    </tr>\n",
       "    <tr>\n",
       "      <th>290</th>\n",
       "      <td>USR1357</td>\n",
       "      <td>Cannot afford</td>\n",
       "      <td>NaN</td>\n",
       "      <td>NaN</td>\n",
       "    </tr>\n",
       "    <tr>\n",
       "      <th>291</th>\n",
       "      <td>USR1358</td>\n",
       "      <td>Wants offline classes</td>\n",
       "      <td>NaN</td>\n",
       "      <td>NaN</td>\n",
       "    </tr>\n",
       "    <tr>\n",
       "      <th>292</th>\n",
       "      <td>USR1359</td>\n",
       "      <td>Will join in final year</td>\n",
       "      <td>NaN</td>\n",
       "      <td>NaN</td>\n",
       "    </tr>\n",
       "    <tr>\n",
       "      <th>293</th>\n",
       "      <td>USR1360</td>\n",
       "      <td>Will join in final year</td>\n",
       "      <td>NaN</td>\n",
       "      <td>NaN</td>\n",
       "    </tr>\n",
       "  </tbody>\n",
       "</table>\n",
       "<p>294 rows × 4 columns</p>\n",
       "</div>"
      ],
      "text/plain": [
       "     lead_id reasons_for_not_interested_in_demo  \\\n",
       "0    USR1001                No time for student   \n",
       "1    USR1003                                NaN   \n",
       "2    USR1004                                NaN   \n",
       "3    USR1005                                NaN   \n",
       "4    USR1006                                NaN   \n",
       "..       ...                                ...   \n",
       "289  USR1356                      Cannot afford   \n",
       "290  USR1357                      Cannot afford   \n",
       "291  USR1358              Wants offline classes   \n",
       "292  USR1359            Will join in final year   \n",
       "293  USR1360            Will join in final year   \n",
       "\n",
       "    reasons_for_not_interested_to_consider  \\\n",
       "0                                      NaN   \n",
       "1                      No time for student   \n",
       "2                    Wants offline classes   \n",
       "3                             Can't afford   \n",
       "4         Student not interested in domain   \n",
       "..                                     ...   \n",
       "289                                    NaN   \n",
       "290                                    NaN   \n",
       "291                                    NaN   \n",
       "292                                    NaN   \n",
       "293                                    NaN   \n",
       "\n",
       "    reasons_for_not_interested_to_convert  \n",
       "0                                     NaN  \n",
       "1                                     NaN  \n",
       "2                                     NaN  \n",
       "3                                     NaN  \n",
       "4                                     NaN  \n",
       "..                                    ...  \n",
       "289                                   NaN  \n",
       "290                                   NaN  \n",
       "291                                   NaN  \n",
       "292                                   NaN  \n",
       "293                                   NaN  \n",
       "\n",
       "[294 rows x 4 columns]"
      ]
     },
     "execution_count": 268,
     "metadata": {},
     "output_type": "execute_result"
    }
   ],
   "source": [
    "df4"
   ]
  },
  {
   "cell_type": "code",
   "execution_count": 269,
   "id": "5fa2043b",
   "metadata": {},
   "outputs": [
    {
     "name": "stdout",
     "output_type": "stream",
     "text": [
      "['No time for student' nan 'Student not interested in domain'\n",
      " 'Wants offline classes' \"Can't afford\" 'Cannot afford'\n",
      " 'Will join in final year'] \n",
      "\n",
      "[nan 'No time for student' 'Wants offline classes' \"Can't afford\"\n",
      " 'Student not interested in domain' 'Will join in final year'] \n",
      "\n",
      "[nan \"Can't afford\" 'Will join in final year' 'No time for student'\n",
      " 'Student not interested in domain' 'Wants offline classes'] \n",
      "\n"
     ]
    }
   ],
   "source": [
    "print(df4.reasons_for_not_interested_in_demo.unique(), '\\n')\n",
    "print(df4.reasons_for_not_interested_to_consider.unique(), '\\n')\n",
    "print(df4.reasons_for_not_interested_to_convert.unique(), '\\n')"
   ]
  },
  {
   "cell_type": "code",
   "execution_count": 271,
   "id": "4fb163f0",
   "metadata": {},
   "outputs": [
    {
     "data": {
      "text/plain": [
       "(294, 4)"
      ]
     },
     "execution_count": 271,
     "metadata": {},
     "output_type": "execute_result"
    }
   ],
   "source": [
    "df4.shape"
   ]
  },
  {
   "cell_type": "code",
   "execution_count": 285,
   "id": "09c259b2",
   "metadata": {},
   "outputs": [
    {
     "data": {
      "text/plain": [
       "lead_id                                     0\n",
       "reasons_for_not_interested_in_demo        130\n",
       "reasons_for_not_interested_to_consider    215\n",
       "reasons_for_not_interested_to_convert     243\n",
       "dtype: int64"
      ]
     },
     "execution_count": 285,
     "metadata": {},
     "output_type": "execute_result"
    }
   ],
   "source": [
    "df4.isnull().sum()"
   ]
  },
  {
   "cell_type": "markdown",
   "id": "3c6aab55",
   "metadata": {},
   "source": [
    "#### 5. sales_managers_assigned_leads_details"
   ]
  },
  {
   "cell_type": "code",
   "execution_count": 274,
   "id": "323a2f14",
   "metadata": {},
   "outputs": [
    {
     "data": {
      "text/html": [
       "<div>\n",
       "<style scoped>\n",
       "    .dataframe tbody tr th:only-of-type {\n",
       "        vertical-align: middle;\n",
       "    }\n",
       "\n",
       "    .dataframe tbody tr th {\n",
       "        vertical-align: top;\n",
       "    }\n",
       "\n",
       "    .dataframe thead th {\n",
       "        text-align: right;\n",
       "    }\n",
       "</style>\n",
       "<table border=\"1\" class=\"dataframe\">\n",
       "  <thead>\n",
       "    <tr style=\"text-align: right;\">\n",
       "      <th></th>\n",
       "      <th>snr_sm_id</th>\n",
       "      <th>jnr_sm_id</th>\n",
       "      <th>assigned_date</th>\n",
       "      <th>cycle</th>\n",
       "      <th>lead_id</th>\n",
       "    </tr>\n",
       "  </thead>\n",
       "  <tbody>\n",
       "    <tr>\n",
       "      <th>0</th>\n",
       "      <td>SNR501MG</td>\n",
       "      <td>JNR1001MG</td>\n",
       "      <td>1/1/2022</td>\n",
       "      <td>1</td>\n",
       "      <td>USR1001</td>\n",
       "    </tr>\n",
       "    <tr>\n",
       "      <th>1</th>\n",
       "      <td>SNR501MG</td>\n",
       "      <td>JNR1001MG</td>\n",
       "      <td>1/1/2022</td>\n",
       "      <td>1</td>\n",
       "      <td>USR1002</td>\n",
       "    </tr>\n",
       "    <tr>\n",
       "      <th>2</th>\n",
       "      <td>SNR501MG</td>\n",
       "      <td>JNR1001MG</td>\n",
       "      <td>1/1/2022</td>\n",
       "      <td>1</td>\n",
       "      <td>USR1003</td>\n",
       "    </tr>\n",
       "    <tr>\n",
       "      <th>3</th>\n",
       "      <td>SNR501MG</td>\n",
       "      <td>JNR1001MG</td>\n",
       "      <td>1/1/2022</td>\n",
       "      <td>1</td>\n",
       "      <td>USR1004</td>\n",
       "    </tr>\n",
       "    <tr>\n",
       "      <th>4</th>\n",
       "      <td>SNR501MG</td>\n",
       "      <td>JNR1001MG</td>\n",
       "      <td>1/1/2022</td>\n",
       "      <td>1</td>\n",
       "      <td>USR1005</td>\n",
       "    </tr>\n",
       "  </tbody>\n",
       "</table>\n",
       "</div>"
      ],
      "text/plain": [
       "  snr_sm_id  jnr_sm_id assigned_date  cycle  lead_id\n",
       "0  SNR501MG  JNR1001MG      1/1/2022      1  USR1001\n",
       "1  SNR501MG  JNR1001MG      1/1/2022      1  USR1002\n",
       "2  SNR501MG  JNR1001MG      1/1/2022      1  USR1003\n",
       "3  SNR501MG  JNR1001MG      1/1/2022      1  USR1004\n",
       "4  SNR501MG  JNR1001MG      1/1/2022      1  USR1005"
      ]
     },
     "execution_count": 274,
     "metadata": {},
     "output_type": "execute_result"
    }
   ],
   "source": [
    "df5.head(5)"
   ]
  },
  {
   "cell_type": "code",
   "execution_count": 278,
   "id": "14eac98f",
   "metadata": {},
   "outputs": [
    {
     "name": "stdout",
     "output_type": "stream",
     "text": [
      "['SNR501MG' 'SNR502MG' 'SNR503MG' 'SNR504MG'] \n",
      "\n",
      "['JNR1001MG' 'JNR1002MG' 'JNR1003MG' 'JNR1004MG' 'JNR1005MG' 'JNR1006MG'\n",
      " 'JNR1007MG' 'JNR1008MG' 'JNR1009MG' 'JNR1010MG' 'JNR1011MG' 'JNR1012MG'\n",
      " 'JNR1013MG' 'JNR1014MG' 'JNR1015MG' 'JNR1016MG'] \n",
      "\n",
      "['1/1/2022' '1/8/2022' '1/15/2022' '2/19/2022'] \n",
      "\n",
      "[1 2 3 4] \n",
      "\n"
     ]
    }
   ],
   "source": [
    "print(df5.snr_sm_id.unique(), '\\n')\n",
    "print(df5.jnr_sm_id.unique(), '\\n')\n",
    "print(df5.assigned_date.unique(), '\\n')\n",
    "print(df5.cycle.unique(), '\\n')\n",
    "# print(df5.lead_id.unique(), '\\n')"
   ]
  },
  {
   "cell_type": "markdown",
   "id": "7151db91",
   "metadata": {},
   "source": [
    "## Data Visualization\n",
    "#### I have created a dashboard on Power BI, where I have solve all these question."
   ]
  },
  {
   "cell_type": "markdown",
   "id": "d6cc79ee",
   "metadata": {},
   "source": [
    "####  Based on some questions, We will found out solutions with visuals.\n",
    "\n",
    "\n",
    "- What is the age distribution?\n",
    "- Count of age by gender!\n",
    "- Maximum and minimum educational qualification of the leads!\n",
    "- from which city/State the leads belong over qualification?\n",
    "- source from which the lead is generated!\n",
    "- What is occupation of the parent of the lead?\n",
    "- Total leads including Male and Female counts!\n",
    "- What is the average watched percentage?\n",
    "- What is the ratio of languges of the leads?\n",
    "- What is the average count percentage over languages of the leads?\n",
    "- Which language is the most common for the lead over city/State?\n",
    "- What is the call status of the lead?"
   ]
  },
  {
   "cell_type": "code",
   "execution_count": null,
   "id": "8c9981e0",
   "metadata": {},
   "outputs": [],
   "source": []
  },
  {
   "cell_type": "code",
   "execution_count": 128,
   "id": "e5d5a66f",
   "metadata": {},
   "outputs": [
    {
     "name": "stderr",
     "output_type": "stream",
     "text": [
      "C:\\Users\\SHUBHAM KUMAR\\anaconda3\\lib\\site-packages\\seaborn\\_decorators.py:36: FutureWarning: Pass the following variable as a keyword arg: x. From version 0.12, the only valid positional argument will be `data`, and passing other arguments without an explicit keyword will result in an error or misinterpretation.\n",
      "  warnings.warn(\n",
      "C:\\Users\\SHUBHAM KUMAR\\anaconda3\\lib\\site-packages\\seaborn\\_decorators.py:36: FutureWarning: Pass the following variable as a keyword arg: x. From version 0.12, the only valid positional argument will be `data`, and passing other arguments without an explicit keyword will result in an error or misinterpretation.\n",
      "  warnings.warn(\n",
      "C:\\Users\\SHUBHAM KUMAR\\anaconda3\\lib\\site-packages\\seaborn\\_decorators.py:36: FutureWarning: Pass the following variable as a keyword arg: x. From version 0.12, the only valid positional argument will be `data`, and passing other arguments without an explicit keyword will result in an error or misinterpretation.\n",
      "  warnings.warn(\n",
      "C:\\Users\\SHUBHAM KUMAR\\anaconda3\\lib\\site-packages\\seaborn\\_decorators.py:36: FutureWarning: Pass the following variable as a keyword arg: x. From version 0.12, the only valid positional argument will be `data`, and passing other arguments without an explicit keyword will result in an error or misinterpretation.\n",
      "  warnings.warn(\n",
      "C:\\Users\\SHUBHAM KUMAR\\anaconda3\\lib\\site-packages\\seaborn\\_decorators.py:36: FutureWarning: Pass the following variable as a keyword arg: x. From version 0.12, the only valid positional argument will be `data`, and passing other arguments without an explicit keyword will result in an error or misinterpretation.\n",
      "  warnings.warn(\n",
      "C:\\Users\\SHUBHAM KUMAR\\anaconda3\\lib\\site-packages\\seaborn\\_decorators.py:36: FutureWarning: Pass the following variable as a keyword arg: x. From version 0.12, the only valid positional argument will be `data`, and passing other arguments without an explicit keyword will result in an error or misinterpretation.\n",
      "  warnings.warn(\n"
     ]
    },
    {
     "data": {
      "image/png": "[encoded data removed]",
      "text/plain": [
       "<Figure size 1440x864 with 6 Axes>"
      ]
     },
     "metadata": {
      "needs_background": "light"
     },
     "output_type": "display_data"
    }
   ],
   "source": [
    "plt.figure(figsize=(20,12))\n",
    "\n",
    "plt.subplot(2,3,1)\n",
    "sns.countplot(df.age)\n",
    "\n",
    "plt.subplot(2,3,2)\n",
    "sns.countplot(df.gender)\n",
    "\n",
    "plt.subplot(2,3,3)\n",
    "sns.countplot(df.current_city)\n",
    "\n",
    "plt.subplot(2,3,4)\n",
    "sns.countplot(df.current_education)\n",
    "\n",
    "plt.subplot(2,3,5)\n",
    "sns.countplot(df.parent_occupation)\n",
    "\n",
    "plt.subplot(2,3,6)\n",
    "sns.countplot(df.lead_gen_source)\n",
    "\n",
    "plt.tight_layout()\n",
    "plt.show()"
   ]
  },
  {
   "cell_type": "code",
   "execution_count": 1,
   "id": "9bf8f7c0",
   "metadata": {},
   "outputs": [
    {
     "data": {
      "image/png": "[encoded data removed]",
      "text/plain": [
       "<IPython.core.display.Image object>"
      ]
     },
     "execution_count": 1,
     "metadata": {
      "image/png": {
       "width": 1000
      }
     },
     "output_type": "execute_result"
    }
   ],
   "source": [
    "from IPython.display import Image\n",
    "Image(filename = \"page1.png\", width=1000)"
   ]
  },
  {
   "cell_type": "code",
   "execution_count": 2,
   "id": "2dbef537",
   "metadata": {},
   "outputs": [
    {
     "data": {
      "image/png": "[encoded data removed]",
      "text/plain": [
       "<IPython.core.display.Image object>"
      ]
     },
     "execution_count": 2,
     "metadata": {
      "image/png": {
       "width": 1000
      }
     },
     "output_type": "execute_result"
    }
   ],
   "source": [
    "Image(filename = \"page2.png\", width=1000)"
   ]
  },
  {
   "cell_type": "code",
   "execution_count": null,
   "id": "f6b82e00",
   "metadata": {},
   "outputs": [],
   "source": []
  },
  {
   "cell_type": "markdown",
   "id": "98573af7",
   "metadata": {},
   "source": [
    "#### Conclusion"
   ]
  },
  {
   "cell_type": "markdown",
   "id": "d75a15ce",
   "metadata": {},
   "source": [
    "- Maximum and minimum lead's age is 18(68, 18.89%) and 16(41, 11.39%) respectibly.\n",
    "- Maximum educational qualification of the leads is B.Tech(139) and minimum 10th(8).\n",
    "- Maximum leads are from Hydrabad(77) and minimum are from Chennai(41).\n",
    "- Social Media(24.17), SEO(20.83) and E-mail Marketing(20.28) helped most to reach out to the leads.\n",
    "- Maximum lead's parents have Government Job(128) and minimum are Professor/Faculty(11).\n",
    "\n"
   ]
  },
  {
   "cell_type": "markdown",
   "id": "2f6d48ec",
   "metadata": {},
   "source": [
    "- Total no of leads 360 in which 161 are male and 199 are female.\n",
    "- Average percentage of watched is 56.63%.\n",
    "- Leads prefers language English(57.73%), Telugu(31.96%) and Hindi(10.31%)\n",
    "- Average of watched percentage is English(37.14%), Telugu(32.88%) and Hindi(29.98%).\n",
    "- English language leads over all Cities/States "
   ]
  },
  {
   "cell_type": "markdown",
   "id": "7516e399",
   "metadata": {},
   "source": [
    "#### Call status is :\n",
    "- Successful = 81.64%\n",
    "- Unsuccessful = 18.36%\n",
    "- Which is showing very good percentage to hiring along with these strategies. "
   ]
  }
 ],
 "metadata": {
  "kernelspec": {
   "display_name": "Python 3 (ipykernel)",
   "language": "python",
   "name": "python3"
  },
  "language_info": {
   "codemirror_mode": {
    "name": "ipython",
    "version": 3
   },
   "file_extension": ".py",
   "mimetype": "text/x-python",
   "name": "python",
   "nbconvert_exporter": "python",
   "pygments_lexer": "ipython3",
   "version": "3.9.7"
  }
 },
 "nbformat": 4,
 "nbformat_minor": 5
}
